{
 "cells": [
  {
   "cell_type": "markdown",
   "metadata": {},
   "source": [
    "# Globally-Consistent Rule-Based Summary-Explanations for Machine Learning Models\n",
    "\n",
    "\n",
    "This notebook provides code examples for a new method for understanding how predictions are made by ML models using \"summary-explanations\", which summarize model predictions in the data. This is similar, but also different from, methods such as [LIME](https://github.com/marcotcr/lime) and [Anchor](https://github.com/marcotcr/anchor). It is based on the paper _Globally-Consistent Rule-Based Summary-Explanations for Machine Learning Models: Application to Credit-Risk Evaluation_ by [Cynthia Rudin](https://users.cs.duke.edu/~cynthia/) and [Yaron Shaposhnik](https://sites.google.com/view/yarons/home) (https://ssrn.com/abstract=3395422). \n",
    "\n",
    "The gist of it, is that unlike previous methods which generate explanations that may be inconsistent with past predictions, our approach is designed to provide global consistency. By inconsistency we mean that an offered explanation  (e.g., \"the model predicts high risk of defaulting of loans because of x\") can be contradicted using past data (e.g., there is a customer who satisfied x but for whom the model predicts low risk of defaulting). \n",
    "This phenomenon is a result of previous approaches approximating the model _locally_ around the observation being explained whereas we take into account global patterns. We use the term \"summary-explanations\" because we are not explaining what the black box is computing, instead we create a summary of its predictions in a certain region of the feature space.\n",
    "\n",
    "The specific explanations that we offer are _rule-based_, which look like this: \"The model predicts High-Risk for the 742 observations satisfying $x_3\\geq 80$ and $x_{21}\\leq 100$\" (high-risk is an arbitrary binary label). Such an explanation which is generated for a specific observation and given a dataset satisfies the following properties: \n",
    "1. It applies to the observation being explained (it must be that $x_3\\geq 80$ and $x_{21}\\leq 100$ for this observation).\n",
    "2. In the historical data, __all__ observations satisfying the rule (that is, observations for which $x_3\\geq 80$ and $x_{21}\\leq 100$, of which there are exactly 742) are labelled high-risk by the model. \n",
    "\n",
    "__Using the code__.\n",
    "1. Given a data matrix $X$ and predictions $Y_{global}$ made by an arbitrary (global) model, one first creates an \"explainer\":\n",
    "\n",
    "    `explainer = ConsistentRulesExplainer(X, Y_global)`\n",
    "    \n",
    "    \n",
    "    \n",
    "2. One can then generate summary-explanations for multiple observations `X_e` whose predictions by the global model are `Y_e`:\n",
    "\n",
    "    `df = explainer.explain(X_e, Y_e, objective='SPARSITY', n_explanations=1, max_features=999999, max_runtime=1)`\n",
    "\n",
    "The latter returns a dataframe with multiple summary-explanations for each observation $x_e,y_e$ in $X_e,Y_e$, which are consistent with $X,Y_{global}$. The parameters of the function are:\n",
    "- `objective` : specifies whether the algorithm should aim to find rules that have the smallest possible number of features (SPARSITY) or rules that are satisfied by the largest number of observations (SUPPORT)\n",
    "- `n_explanations` : the maximal number of returned explanations \n",
    "- `max_features` : the maximal number of features that constitute each explanation\n",
    "- `max_runtime` : the maximal running time per explanation (in seconds; a mixed integer programming solver is being used to generate summary-explanations)\n",
    "\n",
    "\n",
    "\n",
    "__Dependencies__.\n",
    "The code was developed in Python v3.7 and makes use of the following libraries:\n",
    "* pandas, matplotlib, numpy, sklearn\n",
    "* pulp (pip3 install PuLP==2.0)\n",
    "* Guorobi (https://www.gurobi.com/)\n",
    "\n",
    "__Note__: implementing the algorithms directly in Gurobi (instead of through PuLP) runs an order of magnitude faster."
   ]
  },
  {
   "cell_type": "markdown",
   "metadata": {},
   "source": [
    "# Toy examples"
   ]
  },
  {
   "cell_type": "markdown",
   "metadata": {},
   "source": [
    "### Continuous datasets"
   ]
  },
  {
   "cell_type": "code",
   "execution_count": 6,
   "metadata": {},
   "outputs": [],
   "source": [
    "# Import code (contained in a single Python file)\n",
    "from ConsistentLocalRules import *"
   ]
  },
  {
   "cell_type": "code",
   "execution_count": 7,
   "metadata": {},
   "outputs": [
    {
     "name": "stdout",
     "output_type": "stream",
     "text": [
      "   x1  x2  y\n",
      "0  10  10  0\n",
      "1  10  11  0\n",
      "2  10  12  1\n",
      "3  11  10  0\n",
      "4  11  11  0\n",
      "5  11  12  0\n",
      "6  12  10  1\n",
      "7  12  11  0\n",
      "8  12  12  0\n"
     ]
    },
    {
     "data": {
      "image/png": "[encoded data removed]",
      "text/plain": [
       "<Figure size 640x480 with 2 Axes>"
      ]
     },
     "metadata": {},
     "output_type": "display_data"
    }
   ],
   "source": [
    "# Prepare a toy continuous dataset\n",
    "X,Y_global,df = toy_continuous_dataset(plot=True, print_table=True)"
   ]
  },
  {
   "cell_type": "code",
   "execution_count": 8,
   "metadata": {},
   "outputs": [
    {
     "name": "stdout",
     "output_type": "stream",
     "text": [
      "Observation 0 features: [[10 10]]\n",
      "Model prediction for observation 0: [0]\n"
     ]
    }
   ],
   "source": [
    "# Print observation i\n",
    "i = 0\n",
    "X_i, Y_global_i = X.iloc[[i],:], Y_global.iloc[[i]]\n",
    "print('Observation %d features: %s'%(i,str(X_i.values)))\n",
    "print('Model prediction for observation %d: %s'%(i,str(Y_global_i.values)))"
   ]
  },
  {
   "cell_type": "code",
   "execution_count": 9,
   "metadata": {},
   "outputs": [],
   "source": [
    "# Create an explainer (a globally-consistent summary-explanation generator) based on the dataset X and the model whose predictions for X are Y_global\n",
    "explainer = ConsistentRulesExplainer(X, Y_global)        "
   ]
  },
  {
   "cell_type": "code",
   "execution_count": 10,
   "metadata": {},
   "outputs": [
    {
     "ename": "PulpSolverError",
     "evalue": "GUROBI: Not Available",
     "output_type": "error",
     "traceback": [
      "\u001b[0;31m---------------------------------------------------------------------------\u001b[0m",
      "\u001b[0;31mPulpSolverError\u001b[0m                           Traceback (most recent call last)",
      "Cell \u001b[0;32mIn[10], line 2\u001b[0m\n\u001b[1;32m      1\u001b[0m \u001b[39m# Generate summary explanations for observation i (here we optimize sparsity; X_i is a dataframe formatted similarly to X)\u001b[39;00m\n\u001b[0;32m----> 2\u001b[0m df_explanations \u001b[39m=\u001b[39m explainer\u001b[39m.\u001b[39;49mexplain(X_i, Y_global_i, objective\u001b[39m=\u001b[39;49m\u001b[39m'\u001b[39;49m\u001b[39mSPARSITY\u001b[39;49m\u001b[39m'\u001b[39;49m, n_explanations\u001b[39m=\u001b[39;49m\u001b[39m10\u001b[39;49m, max_features\u001b[39m=\u001b[39;49m\u001b[39m9999\u001b[39;49m, max_runtime\u001b[39m=\u001b[39;49m\u001b[39m60\u001b[39;49m)\n",
      "File \u001b[0;32m/workspaces/GloballyConsistentRules/ConsistentLocalRules.py:345\u001b[0m, in \u001b[0;36mConsistentRulesExplainer.explain\u001b[0;34m(self, X_e, Y_e, objective, n_explanations, max_features, max_runtime)\u001b[0m\n\u001b[1;32m    343\u001b[0m res \u001b[39m=\u001b[39m []\n\u001b[1;32m    344\u001b[0m \u001b[39mfor\u001b[39;00m i \u001b[39min\u001b[39;00m \u001b[39mrange\u001b[39m(\u001b[39mlen\u001b[39m(X_e)):\n\u001b[0;32m--> 345\u001b[0m     df_i \u001b[39m=\u001b[39m \u001b[39mself\u001b[39;49m\u001b[39m.\u001b[39;49m__explain_local__(X_e\u001b[39m.\u001b[39;49miloc[i], Y_e[i], objective, n_explanations, max_features, max_runtime)\n\u001b[1;32m    346\u001b[0m     df_i\u001b[39m.\u001b[39minsert(\u001b[39m0\u001b[39m, \u001b[39m\"\u001b[39m\u001b[39m#Observation\u001b[39m\u001b[39m\"\u001b[39m,i)\n\u001b[1;32m    347\u001b[0m     df_i\u001b[39m.\u001b[39minsert(\u001b[39m1\u001b[39m, \u001b[39m\"\u001b[39m\u001b[39m#Explanation\u001b[39m\u001b[39m\"\u001b[39m,df_i\u001b[39m.\u001b[39mindex\u001b[39m.\u001b[39mvalues)\n",
      "File \u001b[0;32m/workspaces/GloballyConsistentRules/ConsistentLocalRules.py:392\u001b[0m, in \u001b[0;36mConsistentRulesExplainer.__explain_local__\u001b[0;34m(self, x_e, y_e, objective, n_explanations, max_features, max_runtime)\u001b[0m\n\u001b[1;32m    390\u001b[0m         ce_list \u001b[39m=\u001b[39m \u001b[39mself\u001b[39m\u001b[39m.\u001b[39m__BinMaxSupport__(x_e, y_e, max_features, n_explanations)\n\u001b[1;32m    391\u001b[0m \u001b[39melif\u001b[39;00m \u001b[39mself\u001b[39m\u001b[39m.\u001b[39mdata_type\u001b[39m==\u001b[39m\u001b[39m\"\u001b[39m\u001b[39mCONTINUOUS\u001b[39m\u001b[39m\"\u001b[39m:\n\u001b[0;32m--> 392\u001b[0m     ce_list \u001b[39m=\u001b[39m \u001b[39mself\u001b[39;49m\u001b[39m.\u001b[39;49m__ContMinSetCover__(x_e, y_e, n_explanations)\n\u001b[1;32m    393\u001b[0m     \u001b[39mif\u001b[39;00m objective\u001b[39m==\u001b[39m\u001b[39m\"\u001b[39m\u001b[39mSUPPORT\u001b[39m\u001b[39m\"\u001b[39m:\n\u001b[1;32m    394\u001b[0m         ce_list \u001b[39m=\u001b[39m \u001b[39mself\u001b[39m\u001b[39m.\u001b[39m__ContMaxSupport__( x_e, y_e, ce_list, n_binary_solutions \u001b[39m=\u001b[39m \u001b[39m1\u001b[39m, n_best \u001b[39m=\u001b[39m n_explanations)\n",
      "File \u001b[0;32m/workspaces/GloballyConsistentRules/ConsistentLocalRules.py:684\u001b[0m, in \u001b[0;36mConsistentRulesExplainer.__ContMinSetCover__\u001b[0;34m(self, x_e, y_e, n_binary_solutions)\u001b[0m\n\u001b[1;32m    681\u001b[0m bin_GCRBE \u001b[39m=\u001b[39m ConsistentRulesExplainer(X_bin, \u001b[39mself\u001b[39m\u001b[39m.\u001b[39mY_global, complement_features\u001b[39m=\u001b[39m\u001b[39mFalse\u001b[39;00m)        \n\u001b[1;32m    683\u001b[0m res \u001b[39m=\u001b[39m []\n\u001b[0;32m--> 684\u001b[0m rbm_bin_solutions \u001b[39m=\u001b[39m bin_GCRBE\u001b[39m.\u001b[39;49m__BinMinSetCover__(x_e_bin, y_e, n_binary_solutions)\n\u001b[1;32m    685\u001b[0m \u001b[39mfor\u001b[39;00m rbm_bin \u001b[39min\u001b[39;00m rbm_bin_solutions:        \n\u001b[1;32m    686\u001b[0m     tau_cont \u001b[39m=\u001b[39m pd\u001b[39m.\u001b[39mSeries(\u001b[39m-\u001b[39mnp\u001b[39m.\u001b[39minf, index\u001b[39m=\u001b[39m\u001b[39mself\u001b[39m\u001b[39m.\u001b[39mfeatures)\n",
      "File \u001b[0;32m/workspaces/GloballyConsistentRules/ConsistentLocalRules.py:453\u001b[0m, in \u001b[0;36mConsistentRulesExplainer.__BinMinSetCover__\u001b[0;34m(self, x_e, y_e, n_explanations)\u001b[0m\n\u001b[1;32m    449\u001b[0m     opt_model \u001b[39m+\u001b[39m\u001b[39m=\u001b[39m \u001b[39msum\u001b[39m([b[f] \u001b[39mfor\u001b[39;00m f \u001b[39min\u001b[39;00m \u001b[39mself\u001b[39m\u001b[39m.\u001b[39mfeatures \u001b[39mif\u001b[39;00m row[f]\u001b[39m==\u001b[39m\u001b[39m0\u001b[39m]) \u001b[39m>\u001b[39m\u001b[39m=\u001b[39m \u001b[39m1\u001b[39m, \u001b[39m\"\u001b[39m\u001b[39mConst. obs. \u001b[39m\u001b[39m%s\u001b[39;00m\u001b[39m\"\u001b[39m\u001b[39m%\u001b[39m\u001b[39mstr\u001b[39m(index)\n\u001b[1;32m    451\u001b[0m \u001b[39m#opt_model.writeLP(\"[%s]model(BinMinSetCover).txt\"%get_time())\u001b[39;00m\n\u001b[1;32m    452\u001b[0m \u001b[39m#status = opt_model.solve(solver = GUROBI(msg=False, OutputFlag=0,TIME_LIMIT=TIME_LIMIT))\u001b[39;00m\n\u001b[0;32m--> 453\u001b[0m status \u001b[39m=\u001b[39m opt_model\u001b[39m.\u001b[39;49msolve(solver \u001b[39m=\u001b[39;49m GUROBI(msg\u001b[39m=\u001b[39;49m\u001b[39mFalse\u001b[39;49;00m, OutputFlag\u001b[39m=\u001b[39;49m\u001b[39m0\u001b[39;49m,TIME_LIMIT\u001b[39m=\u001b[39;49mTIME_LIMIT))\n\u001b[1;32m    454\u001b[0m \u001b[39mif\u001b[39;00m (status\u001b[39m==\u001b[39mpulp\u001b[39m.\u001b[39mconstants\u001b[39m.\u001b[39mLpStatusInfeasible):\n\u001b[1;32m    455\u001b[0m     \u001b[39mbreak\u001b[39;00m\n",
      "File \u001b[0;32m~/.python/current/lib/python3.10/site-packages/pulp/pulp.py:1913\u001b[0m, in \u001b[0;36mLpProblem.solve\u001b[0;34m(self, solver, **kwargs)\u001b[0m\n\u001b[1;32m   1911\u001b[0m \u001b[39m# time it\u001b[39;00m\n\u001b[1;32m   1912\u001b[0m \u001b[39mself\u001b[39m\u001b[39m.\u001b[39mstartClock()\n\u001b[0;32m-> 1913\u001b[0m status \u001b[39m=\u001b[39m solver\u001b[39m.\u001b[39;49mactualSolve(\u001b[39mself\u001b[39;49m, \u001b[39m*\u001b[39;49m\u001b[39m*\u001b[39;49mkwargs)\n\u001b[1;32m   1914\u001b[0m \u001b[39mself\u001b[39m\u001b[39m.\u001b[39mstopClock()\n\u001b[1;32m   1915\u001b[0m \u001b[39mself\u001b[39m\u001b[39m.\u001b[39mrestoreObjective(wasNone, dummyVar)\n",
      "File \u001b[0;32m~/.python/current/lib/python3.10/site-packages/pulp/apis/gurobi_api.py:63\u001b[0m, in \u001b[0;36mGUROBI.actualSolve\u001b[0;34m(self, lp, callback)\u001b[0m\n\u001b[1;32m     61\u001b[0m \u001b[39mdef\u001b[39;00m \u001b[39mactualSolve\u001b[39m(\u001b[39mself\u001b[39m, lp, callback\u001b[39m=\u001b[39m\u001b[39mNone\u001b[39;00m):\n\u001b[1;32m     62\u001b[0m \u001b[39m    \u001b[39m\u001b[39m\"\"\"Solve a well formulated lp problem\"\"\"\u001b[39;00m\n\u001b[0;32m---> 63\u001b[0m     \u001b[39mraise\u001b[39;00m PulpSolverError(\u001b[39m\"\u001b[39m\u001b[39mGUROBI: Not Available\u001b[39m\u001b[39m\"\u001b[39m)\n",
      "\u001b[0;31mPulpSolverError\u001b[0m: GUROBI: Not Available"
     ]
    }
   ],
   "source": [
    "# Generate summary explanations for observation i (here we optimize sparsity; X_i is a dataframe formatted similarly to X)\n",
    "df_explanations = explainer.explain(X_i, Y_global_i, objective='SPARSITY', n_explanations=10, max_features=9999, max_runtime=60)"
   ]
  },
  {
   "cell_type": "code",
   "execution_count": 6,
   "metadata": {},
   "outputs": [
    {
     "data": {
      "text/html": [
       "<div>\n",
       "<style scoped>\n",
       "    .dataframe tbody tr th:only-of-type {\n",
       "        vertical-align: middle;\n",
       "    }\n",
       "\n",
       "    .dataframe tbody tr th {\n",
       "        vertical-align: top;\n",
       "    }\n",
       "\n",
       "    .dataframe thead th {\n",
       "        text-align: right;\n",
       "    }\n",
       "</style>\n",
       "<table border=\"1\" class=\"dataframe\">\n",
       "  <thead>\n",
       "    <tr style=\"text-align: right;\">\n",
       "      <th></th>\n",
       "      <th>#Observation</th>\n",
       "      <th>#Explanation</th>\n",
       "      <th>Rule</th>\n",
       "      <th>Prediction</th>\n",
       "      <th>Support</th>\n",
       "      <th>#Features</th>\n",
       "      <th>Runtime</th>\n",
       "      <th>Algorithm</th>\n",
       "    </tr>\n",
       "  </thead>\n",
       "  <tbody>\n",
       "    <tr>\n",
       "      <th>0</th>\n",
       "      <td>0</td>\n",
       "      <td>0</td>\n",
       "      <td>x1&lt;=10.00, x2&lt;=10.00</td>\n",
       "      <td>0</td>\n",
       "      <td>1</td>\n",
       "      <td>2</td>\n",
       "      <td>0.0</td>\n",
       "      <td>ContMinSetCover</td>\n",
       "    </tr>\n",
       "    <tr>\n",
       "      <th>1</th>\n",
       "      <td>0</td>\n",
       "      <td>1</td>\n",
       "      <td>10.00&lt;=x2&lt;=10.00, x1&lt;=10.00</td>\n",
       "      <td>0</td>\n",
       "      <td>1</td>\n",
       "      <td>2</td>\n",
       "      <td>0.0</td>\n",
       "      <td>ContMinSetCover</td>\n",
       "    </tr>\n",
       "    <tr>\n",
       "      <th>2</th>\n",
       "      <td>0</td>\n",
       "      <td>2</td>\n",
       "      <td>10.00&lt;=x1&lt;=10.00, x2&lt;=10.00</td>\n",
       "      <td>0</td>\n",
       "      <td>1</td>\n",
       "      <td>2</td>\n",
       "      <td>0.0</td>\n",
       "      <td>ContMinSetCover</td>\n",
       "    </tr>\n",
       "    <tr>\n",
       "      <th>3</th>\n",
       "      <td>0</td>\n",
       "      <td>3</td>\n",
       "      <td>10.00&lt;=x1&lt;=10.00, 10.00&lt;=x2&lt;=10.00</td>\n",
       "      <td>0</td>\n",
       "      <td>1</td>\n",
       "      <td>2</td>\n",
       "      <td>0.0</td>\n",
       "      <td>ContMinSetCover</td>\n",
       "    </tr>\n",
       "  </tbody>\n",
       "</table>\n",
       "</div>"
      ],
      "text/plain": [
       "   #Observation  #Explanation                                Rule  Prediction  \\\n",
       "0             0             0                x1<=10.00, x2<=10.00           0   \n",
       "1             0             1         10.00<=x2<=10.00, x1<=10.00           0   \n",
       "2             0             2         10.00<=x1<=10.00, x2<=10.00           0   \n",
       "3             0             3  10.00<=x1<=10.00, 10.00<=x2<=10.00           0   \n",
       "\n",
       "   Support  #Features Runtime        Algorithm  \n",
       "0        1          2     0.0  ContMinSetCover  \n",
       "1        1          2     0.0  ContMinSetCover  \n",
       "2        1          2     0.0  ContMinSetCover  \n",
       "3        1          2     0.0  ContMinSetCover  "
      ]
     },
     "execution_count": 6,
     "metadata": {},
     "output_type": "execute_result"
    }
   ],
   "source": [
    "df_explanations"
   ]
  },
  {
   "cell_type": "markdown",
   "metadata": {},
   "source": [
    "Observe that\n",
    "* 4 summary explanations were generated for observation i=0\n",
    "* The algorithm used to find this rule is ContMinSetCover which is used when the objective is sparsity and the dataset has continuous features"
   ]
  },
  {
   "cell_type": "code",
   "execution_count": 7,
   "metadata": {},
   "outputs": [],
   "source": [
    "# Generate summary explanations for observation i (this time optimize support)\n",
    "df_explanations = explainer.explain(X_i, Y_global_i, objective='SUPPORT', n_explanations=10, max_features=9999, max_runtime=60)"
   ]
  },
  {
   "cell_type": "code",
   "execution_count": 8,
   "metadata": {},
   "outputs": [
    {
     "data": {
      "text/html": [
       "<div>\n",
       "<style scoped>\n",
       "    .dataframe tbody tr th:only-of-type {\n",
       "        vertical-align: middle;\n",
       "    }\n",
       "\n",
       "    .dataframe tbody tr th {\n",
       "        vertical-align: top;\n",
       "    }\n",
       "\n",
       "    .dataframe thead th {\n",
       "        text-align: right;\n",
       "    }\n",
       "</style>\n",
       "<table border=\"1\" class=\"dataframe\">\n",
       "  <thead>\n",
       "    <tr style=\"text-align: right;\">\n",
       "      <th></th>\n",
       "      <th>#Observation</th>\n",
       "      <th>#Explanation</th>\n",
       "      <th>Rule</th>\n",
       "      <th>Prediction</th>\n",
       "      <th>Support</th>\n",
       "      <th>#Features</th>\n",
       "      <th>Runtime</th>\n",
       "      <th>Algorithm</th>\n",
       "    </tr>\n",
       "  </thead>\n",
       "  <tbody>\n",
       "    <tr>\n",
       "      <th>0</th>\n",
       "      <td>0</td>\n",
       "      <td>0</td>\n",
       "      <td>x1&lt;=11.00, x2&lt;=11.00</td>\n",
       "      <td>0</td>\n",
       "      <td>4</td>\n",
       "      <td>2</td>\n",
       "      <td>0.0</td>\n",
       "      <td>ContMaxSupport</td>\n",
       "    </tr>\n",
       "  </tbody>\n",
       "</table>\n",
       "</div>"
      ],
      "text/plain": [
       "   #Observation  #Explanation                  Rule  Prediction  Support  \\\n",
       "0             0             0  x1<=11.00, x2<=11.00           0        4   \n",
       "\n",
       "   #Features Runtime       Algorithm  \n",
       "0          2     0.0  ContMaxSupport  "
      ]
     },
     "execution_count": 8,
     "metadata": {},
     "output_type": "execute_result"
    }
   ],
   "source": [
    "# Display summary-explanations\n",
    "df_explanations"
   ]
  },
  {
   "cell_type": "markdown",
   "metadata": {},
   "source": [
    "A single summary-explanation was returned for observation 0. Note that now that we specified objective=SUPPORT, the resulting rule has a larger support (support=4) comparing to the rules obtained when only aimed for sparsity. The algorithm used is ContMaxSupport, which applies dynamic programming to \"expand\" the solutions returned by ContMinSetCover. In this particular case (when i=0) the expanded explanations of the 4 sparse explanations coincide, which is why a single summary-explanation is returned. "
   ]
  },
  {
   "cell_type": "markdown",
   "metadata": {},
   "source": [
    "### Binary datasets\n",
    "Different algorithms are used to explain binary datasets (features are binary). These are: BinMinSetCover and BinMaxSupport."
   ]
  },
  {
   "cell_type": "code",
   "execution_count": 9,
   "metadata": {},
   "outputs": [],
   "source": [
    "# Import code (contained in a single Python file)\n",
    "from ConsistentLocalRules import *"
   ]
  },
  {
   "cell_type": "code",
   "execution_count": 10,
   "metadata": {
    "scrolled": false
   },
   "outputs": [
    {
     "name": "stdout",
     "output_type": "stream",
     "text": [
      "  x1 x2  y\n",
      "0  0  0  1\n",
      "1  0  1  0\n",
      "2  1  0  0\n",
      "3  1  1  0\n"
     ]
    },
    {
     "data": {
      "image/png": "[encoded data removed]",
      "text/plain": [
       "<Figure size 432x288 with 2 Axes>"
      ]
     },
     "metadata": {
      "needs_background": "light"
     },
     "output_type": "display_data"
    }
   ],
   "source": [
    "# Prepare a toy binary dataset\n",
    "X,Y_global,df = toy_binary_dataset(plot=True, print_table=True)"
   ]
  },
  {
   "cell_type": "code",
   "execution_count": 11,
   "metadata": {},
   "outputs": [],
   "source": [
    "# Create an explainer (a globally-consistent summary-explanation generator) based on the dataset X and the model whose predictions for X are Y_global\n",
    "explainer = ConsistentRulesExplainer(X, Y_global)        "
   ]
  },
  {
   "cell_type": "code",
   "execution_count": 12,
   "metadata": {},
   "outputs": [],
   "source": [
    "# Generate summary explanations for observation i (here we optimize sparsity; X_i is a dataframe formatted similarly to X)\n",
    "df_explanations = explainer.explain(X, Y_global, objective='SPARSITY', n_explanations=10, max_features=9999, max_runtime=60)"
   ]
  },
  {
   "cell_type": "code",
   "execution_count": 13,
   "metadata": {},
   "outputs": [
    {
     "data": {
      "text/html": [
       "<div>\n",
       "<style scoped>\n",
       "    .dataframe tbody tr th:only-of-type {\n",
       "        vertical-align: middle;\n",
       "    }\n",
       "\n",
       "    .dataframe tbody tr th {\n",
       "        vertical-align: top;\n",
       "    }\n",
       "\n",
       "    .dataframe thead th {\n",
       "        text-align: right;\n",
       "    }\n",
       "</style>\n",
       "<table border=\"1\" class=\"dataframe\">\n",
       "  <thead>\n",
       "    <tr style=\"text-align: right;\">\n",
       "      <th></th>\n",
       "      <th>#Observation</th>\n",
       "      <th>#Explanation</th>\n",
       "      <th>Rule</th>\n",
       "      <th>Prediction</th>\n",
       "      <th>Support</th>\n",
       "      <th>#Features</th>\n",
       "      <th>Runtime</th>\n",
       "      <th>Algorithm</th>\n",
       "    </tr>\n",
       "  </thead>\n",
       "  <tbody>\n",
       "    <tr>\n",
       "      <th>0</th>\n",
       "      <td>0</td>\n",
       "      <td>0</td>\n",
       "      <td>x1&lt;=0.00, x2&lt;=0.00</td>\n",
       "      <td>1</td>\n",
       "      <td>1</td>\n",
       "      <td>2</td>\n",
       "      <td>0.0</td>\n",
       "      <td>BinMinSetCover</td>\n",
       "    </tr>\n",
       "    <tr>\n",
       "      <th>1</th>\n",
       "      <td>1</td>\n",
       "      <td>0</td>\n",
       "      <td>x2&gt;=1.00</td>\n",
       "      <td>0</td>\n",
       "      <td>2</td>\n",
       "      <td>1</td>\n",
       "      <td>0.0</td>\n",
       "      <td>BinMinSetCover</td>\n",
       "    </tr>\n",
       "    <tr>\n",
       "      <th>2</th>\n",
       "      <td>1</td>\n",
       "      <td>1</td>\n",
       "      <td>x2&gt;=1.00, x1&lt;=0.00</td>\n",
       "      <td>0</td>\n",
       "      <td>1</td>\n",
       "      <td>2</td>\n",
       "      <td>0.0</td>\n",
       "      <td>BinMinSetCover</td>\n",
       "    </tr>\n",
       "    <tr>\n",
       "      <th>3</th>\n",
       "      <td>2</td>\n",
       "      <td>0</td>\n",
       "      <td>x1&gt;=1.00</td>\n",
       "      <td>0</td>\n",
       "      <td>2</td>\n",
       "      <td>1</td>\n",
       "      <td>0.0</td>\n",
       "      <td>BinMinSetCover</td>\n",
       "    </tr>\n",
       "    <tr>\n",
       "      <th>4</th>\n",
       "      <td>2</td>\n",
       "      <td>1</td>\n",
       "      <td>x1&gt;=1.00, x2&lt;=0.00</td>\n",
       "      <td>0</td>\n",
       "      <td>1</td>\n",
       "      <td>2</td>\n",
       "      <td>0.0</td>\n",
       "      <td>BinMinSetCover</td>\n",
       "    </tr>\n",
       "    <tr>\n",
       "      <th>5</th>\n",
       "      <td>3</td>\n",
       "      <td>0</td>\n",
       "      <td>x2&gt;=1.00</td>\n",
       "      <td>0</td>\n",
       "      <td>2</td>\n",
       "      <td>1</td>\n",
       "      <td>0.0</td>\n",
       "      <td>BinMinSetCover</td>\n",
       "    </tr>\n",
       "    <tr>\n",
       "      <th>6</th>\n",
       "      <td>3</td>\n",
       "      <td>1</td>\n",
       "      <td>x1&gt;=1.00</td>\n",
       "      <td>0</td>\n",
       "      <td>2</td>\n",
       "      <td>1</td>\n",
       "      <td>0.0</td>\n",
       "      <td>BinMinSetCover</td>\n",
       "    </tr>\n",
       "    <tr>\n",
       "      <th>7</th>\n",
       "      <td>3</td>\n",
       "      <td>2</td>\n",
       "      <td>x1&gt;=1.00, x2&gt;=1.00</td>\n",
       "      <td>0</td>\n",
       "      <td>1</td>\n",
       "      <td>2</td>\n",
       "      <td>0.0</td>\n",
       "      <td>BinMinSetCover</td>\n",
       "    </tr>\n",
       "  </tbody>\n",
       "</table>\n",
       "</div>"
      ],
      "text/plain": [
       "   #Observation  #Explanation                Rule  Prediction  Support  \\\n",
       "0             0             0  x1<=0.00, x2<=0.00           1        1   \n",
       "1             1             0            x2>=1.00           0        2   \n",
       "2             1             1  x2>=1.00, x1<=0.00           0        1   \n",
       "3             2             0            x1>=1.00           0        2   \n",
       "4             2             1  x1>=1.00, x2<=0.00           0        1   \n",
       "5             3             0            x2>=1.00           0        2   \n",
       "6             3             1            x1>=1.00           0        2   \n",
       "7             3             2  x1>=1.00, x2>=1.00           0        1   \n",
       "\n",
       "   #Features Runtime       Algorithm  \n",
       "0          2     0.0  BinMinSetCover  \n",
       "1          1     0.0  BinMinSetCover  \n",
       "2          2     0.0  BinMinSetCover  \n",
       "3          1     0.0  BinMinSetCover  \n",
       "4          2     0.0  BinMinSetCover  \n",
       "5          1     0.0  BinMinSetCover  \n",
       "6          1     0.0  BinMinSetCover  \n",
       "7          2     0.0  BinMinSetCover  "
      ]
     },
     "execution_count": 13,
     "metadata": {},
     "output_type": "execute_result"
    }
   ],
   "source": [
    "df_explanations"
   ]
  },
  {
   "cell_type": "markdown",
   "metadata": {},
   "source": [
    "In this case we simultaneously generate explanations for 4 observations. The first column in the resulting dataframe (\"\t#Observation\") tells us the observation number (according to its position in $X$). For each observation being explained there could be multiple summary-explanations which are numbered sequentially in the second column (\"#Explanation\"). Here we optimized for sparsity and the algorithm used was BinMinSetCover. "
   ]
  },
  {
   "cell_type": "code",
   "execution_count": 14,
   "metadata": {},
   "outputs": [],
   "source": [
    "# Generate summary explanations for observation i (this time optimize support)\n",
    "df_explanations = explainer.explain(X, Y_global, objective='SUPPORT', n_explanations=10, max_features=9999, max_runtime=60)"
   ]
  },
  {
   "cell_type": "code",
   "execution_count": 15,
   "metadata": {
    "scrolled": true
   },
   "outputs": [
    {
     "data": {
      "text/html": [
       "<div>\n",
       "<style scoped>\n",
       "    .dataframe tbody tr th:only-of-type {\n",
       "        vertical-align: middle;\n",
       "    }\n",
       "\n",
       "    .dataframe tbody tr th {\n",
       "        vertical-align: top;\n",
       "    }\n",
       "\n",
       "    .dataframe thead th {\n",
       "        text-align: right;\n",
       "    }\n",
       "</style>\n",
       "<table border=\"1\" class=\"dataframe\">\n",
       "  <thead>\n",
       "    <tr style=\"text-align: right;\">\n",
       "      <th></th>\n",
       "      <th>#Observation</th>\n",
       "      <th>#Explanation</th>\n",
       "      <th>Rule</th>\n",
       "      <th>Prediction</th>\n",
       "      <th>Support</th>\n",
       "      <th>#Features</th>\n",
       "      <th>Runtime</th>\n",
       "      <th>Algorithm</th>\n",
       "    </tr>\n",
       "  </thead>\n",
       "  <tbody>\n",
       "    <tr>\n",
       "      <th>0</th>\n",
       "      <td>0</td>\n",
       "      <td>0</td>\n",
       "      <td>x1&lt;=0.00, x2&lt;=0.00</td>\n",
       "      <td>1</td>\n",
       "      <td>1</td>\n",
       "      <td>2</td>\n",
       "      <td>0.0</td>\n",
       "      <td>BinMaxSupport</td>\n",
       "    </tr>\n",
       "    <tr>\n",
       "      <th>1</th>\n",
       "      <td>1</td>\n",
       "      <td>0</td>\n",
       "      <td>x2&gt;=1.00</td>\n",
       "      <td>0</td>\n",
       "      <td>2</td>\n",
       "      <td>1</td>\n",
       "      <td>0.0</td>\n",
       "      <td>BinMaxSupport</td>\n",
       "    </tr>\n",
       "    <tr>\n",
       "      <th>2</th>\n",
       "      <td>1</td>\n",
       "      <td>1</td>\n",
       "      <td>x2&gt;=1.00, x1&lt;=0.00</td>\n",
       "      <td>0</td>\n",
       "      <td>1</td>\n",
       "      <td>2</td>\n",
       "      <td>0.0</td>\n",
       "      <td>BinMaxSupport</td>\n",
       "    </tr>\n",
       "    <tr>\n",
       "      <th>3</th>\n",
       "      <td>2</td>\n",
       "      <td>0</td>\n",
       "      <td>x1&gt;=1.00</td>\n",
       "      <td>0</td>\n",
       "      <td>2</td>\n",
       "      <td>1</td>\n",
       "      <td>0.0</td>\n",
       "      <td>BinMaxSupport</td>\n",
       "    </tr>\n",
       "    <tr>\n",
       "      <th>4</th>\n",
       "      <td>2</td>\n",
       "      <td>1</td>\n",
       "      <td>x1&gt;=1.00, x2&lt;=0.00</td>\n",
       "      <td>0</td>\n",
       "      <td>1</td>\n",
       "      <td>2</td>\n",
       "      <td>0.0</td>\n",
       "      <td>BinMaxSupport</td>\n",
       "    </tr>\n",
       "    <tr>\n",
       "      <th>5</th>\n",
       "      <td>3</td>\n",
       "      <td>0</td>\n",
       "      <td>x2&gt;=1.00</td>\n",
       "      <td>0</td>\n",
       "      <td>2</td>\n",
       "      <td>1</td>\n",
       "      <td>0.0</td>\n",
       "      <td>BinMaxSupport</td>\n",
       "    </tr>\n",
       "    <tr>\n",
       "      <th>6</th>\n",
       "      <td>3</td>\n",
       "      <td>1</td>\n",
       "      <td>x1&gt;=1.00</td>\n",
       "      <td>0</td>\n",
       "      <td>2</td>\n",
       "      <td>1</td>\n",
       "      <td>0.0</td>\n",
       "      <td>BinMaxSupport</td>\n",
       "    </tr>\n",
       "    <tr>\n",
       "      <th>7</th>\n",
       "      <td>3</td>\n",
       "      <td>2</td>\n",
       "      <td>x1&gt;=1.00, x2&gt;=1.00</td>\n",
       "      <td>0</td>\n",
       "      <td>1</td>\n",
       "      <td>2</td>\n",
       "      <td>0.0</td>\n",
       "      <td>BinMaxSupport</td>\n",
       "    </tr>\n",
       "  </tbody>\n",
       "</table>\n",
       "</div>"
      ],
      "text/plain": [
       "   #Observation  #Explanation                Rule  Prediction  Support  \\\n",
       "0             0             0  x1<=0.00, x2<=0.00           1        1   \n",
       "1             1             0            x2>=1.00           0        2   \n",
       "2             1             1  x2>=1.00, x1<=0.00           0        1   \n",
       "3             2             0            x1>=1.00           0        2   \n",
       "4             2             1  x1>=1.00, x2<=0.00           0        1   \n",
       "5             3             0            x2>=1.00           0        2   \n",
       "6             3             1            x1>=1.00           0        2   \n",
       "7             3             2  x1>=1.00, x2>=1.00           0        1   \n",
       "\n",
       "   #Features Runtime      Algorithm  \n",
       "0          2     0.0  BinMaxSupport  \n",
       "1          1     0.0  BinMaxSupport  \n",
       "2          2     0.0  BinMaxSupport  \n",
       "3          1     0.0  BinMaxSupport  \n",
       "4          2     0.0  BinMaxSupport  \n",
       "5          1     0.0  BinMaxSupport  \n",
       "6          1     0.0  BinMaxSupport  \n",
       "7          2     0.0  BinMaxSupport  "
      ]
     },
     "execution_count": 15,
     "metadata": {},
     "output_type": "execute_result"
    }
   ],
   "source": [
    "# Display summary-explanations\n",
    "df_explanations"
   ]
  },
  {
   "cell_type": "markdown",
   "metadata": {},
   "source": [
    "When maximizing support we use the algorithm BinMaxSupport. The results are pretty for similar in 2 dimensional binary datasets."
   ]
  },
  {
   "cell_type": "markdown",
   "metadata": {},
   "source": [
    "# Real data\n",
    "\n",
    "Data source: https://community.fico.com/s/explainable-machine-learning-challenge\n",
    "\n",
    "The problem describes a binary classification problem for predicting defaulting on HELOC loans: \"Bad\" (1) vs. \"Good\" (0)."
   ]
  },
  {
   "cell_type": "markdown",
   "metadata": {},
   "source": [
    "### Setup: prepare data and train global model to be explained"
   ]
  },
  {
   "cell_type": "code",
   "execution_count": 16,
   "metadata": {
    "scrolled": false
   },
   "outputs": [
    {
     "data": {
      "text/html": [
       "<div>\n",
       "<style scoped>\n",
       "    .dataframe tbody tr th:only-of-type {\n",
       "        vertical-align: middle;\n",
       "    }\n",
       "\n",
       "    .dataframe tbody tr th {\n",
       "        vertical-align: top;\n",
       "    }\n",
       "\n",
       "    .dataframe thead th {\n",
       "        text-align: right;\n",
       "    }\n",
       "</style>\n",
       "<table border=\"1\" class=\"dataframe\">\n",
       "  <thead>\n",
       "    <tr style=\"text-align: right;\">\n",
       "      <th></th>\n",
       "      <th>RiskPerformance</th>\n",
       "      <th>ExternalRiskEstimate</th>\n",
       "      <th>MSinceOldestTradeOpen</th>\n",
       "      <th>MSinceMostRecentTradeOpen</th>\n",
       "      <th>AverageMInFile</th>\n",
       "      <th>NumSatisfactoryTrades</th>\n",
       "      <th>NumTrades60Ever2DerogPubRec</th>\n",
       "      <th>NumTrades90Ever2DerogPubRec</th>\n",
       "      <th>PercentTradesNeverDelq</th>\n",
       "      <th>MSinceMostRecentDelq</th>\n",
       "      <th>...</th>\n",
       "      <th>PercentInstallTrades</th>\n",
       "      <th>MSinceMostRecentInqexcl7days</th>\n",
       "      <th>NumInqLast6M</th>\n",
       "      <th>NumInqLast6Mexcl7days</th>\n",
       "      <th>NetFractionRevolvingBurden</th>\n",
       "      <th>NetFractionInstallBurden</th>\n",
       "      <th>NumRevolvingTradesWBalance</th>\n",
       "      <th>NumInstallTradesWBalance</th>\n",
       "      <th>NumBank2NatlTradesWHighUtilization</th>\n",
       "      <th>PercentTradesWBalance</th>\n",
       "    </tr>\n",
       "  </thead>\n",
       "  <tbody>\n",
       "    <tr>\n",
       "      <th>0</th>\n",
       "      <td>Bad</td>\n",
       "      <td>55</td>\n",
       "      <td>144</td>\n",
       "      <td>4</td>\n",
       "      <td>84</td>\n",
       "      <td>20</td>\n",
       "      <td>3</td>\n",
       "      <td>0</td>\n",
       "      <td>83</td>\n",
       "      <td>2</td>\n",
       "      <td>...</td>\n",
       "      <td>43</td>\n",
       "      <td>0</td>\n",
       "      <td>0</td>\n",
       "      <td>0</td>\n",
       "      <td>33</td>\n",
       "      <td>-8</td>\n",
       "      <td>8</td>\n",
       "      <td>1</td>\n",
       "      <td>1</td>\n",
       "      <td>69</td>\n",
       "    </tr>\n",
       "    <tr>\n",
       "      <th>1</th>\n",
       "      <td>Bad</td>\n",
       "      <td>61</td>\n",
       "      <td>58</td>\n",
       "      <td>15</td>\n",
       "      <td>41</td>\n",
       "      <td>2</td>\n",
       "      <td>4</td>\n",
       "      <td>4</td>\n",
       "      <td>100</td>\n",
       "      <td>-7</td>\n",
       "      <td>...</td>\n",
       "      <td>67</td>\n",
       "      <td>0</td>\n",
       "      <td>0</td>\n",
       "      <td>0</td>\n",
       "      <td>0</td>\n",
       "      <td>-8</td>\n",
       "      <td>0</td>\n",
       "      <td>-8</td>\n",
       "      <td>-8</td>\n",
       "      <td>0</td>\n",
       "    </tr>\n",
       "  </tbody>\n",
       "</table>\n",
       "<p>2 rows × 24 columns</p>\n",
       "</div>"
      ],
      "text/plain": [
       "  RiskPerformance  ExternalRiskEstimate  MSinceOldestTradeOpen  \\\n",
       "0             Bad                    55                    144   \n",
       "1             Bad                    61                     58   \n",
       "\n",
       "   MSinceMostRecentTradeOpen  AverageMInFile  NumSatisfactoryTrades  \\\n",
       "0                          4              84                     20   \n",
       "1                         15              41                      2   \n",
       "\n",
       "   NumTrades60Ever2DerogPubRec  NumTrades90Ever2DerogPubRec  \\\n",
       "0                            3                            0   \n",
       "1                            4                            4   \n",
       "\n",
       "   PercentTradesNeverDelq  MSinceMostRecentDelq  ...  PercentInstallTrades  \\\n",
       "0                      83                     2  ...                    43   \n",
       "1                     100                    -7  ...                    67   \n",
       "\n",
       "   MSinceMostRecentInqexcl7days  NumInqLast6M  NumInqLast6Mexcl7days  \\\n",
       "0                             0             0                      0   \n",
       "1                             0             0                      0   \n",
       "\n",
       "   NetFractionRevolvingBurden  NetFractionInstallBurden  \\\n",
       "0                          33                        -8   \n",
       "1                           0                        -8   \n",
       "\n",
       "   NumRevolvingTradesWBalance  NumInstallTradesWBalance  \\\n",
       "0                           8                         1   \n",
       "1                           0                        -8   \n",
       "\n",
       "   NumBank2NatlTradesWHighUtilization  PercentTradesWBalance  \n",
       "0                                   1                     69  \n",
       "1                                  -8                      0  \n",
       "\n",
       "[2 rows x 24 columns]"
      ]
     },
     "execution_count": 16,
     "metadata": {},
     "output_type": "execute_result"
    }
   ],
   "source": [
    "# Load data\n",
    "df = pd.read_csv('heloc_dataset_v1.csv')\n",
    "df.head(2)"
   ]
  },
  {
   "cell_type": "code",
   "execution_count": 17,
   "metadata": {},
   "outputs": [],
   "source": [
    "# Construct data matrix and labels\n",
    "X = df.iloc[:,1:]\n",
    "Y = pd.Series((df.iloc[:,0]=='Bad').astype(int)) # transform \"Bad\" to 1 and \"Good\" to 0"
   ]
  },
  {
   "cell_type": "code",
   "execution_count": 18,
   "metadata": {},
   "outputs": [],
   "source": [
    "# Train model (for brevity we skip preprocessing and split to train/test data)\n",
    "from sklearn import linear_model\n",
    "clf_log_reg = linear_model.LogisticRegression(max_iter=10000, random_state=0).fit(X, Y) "
   ]
  },
  {
   "cell_type": "code",
   "execution_count": 19,
   "metadata": {},
   "outputs": [
    {
     "name": "stdout",
     "output_type": "stream",
     "text": [
      "Model accuracy: 0.719\n"
     ]
    }
   ],
   "source": [
    "# Evaluation (in-sample)\n",
    "from sklearn.metrics import accuracy_score\n",
    "print('Model accuracy: %.3f'%accuracy_score(Y, clf_log_reg.predict(X)))"
   ]
  },
  {
   "cell_type": "code",
   "execution_count": 20,
   "metadata": {},
   "outputs": [],
   "source": [
    "# Model predictions\n",
    "Y_global = pd.Series(clf_log_reg.predict(X))"
   ]
  },
  {
   "cell_type": "markdown",
   "metadata": {},
   "source": [
    "### Generate summary-explanations"
   ]
  },
  {
   "cell_type": "code",
   "execution_count": 21,
   "metadata": {},
   "outputs": [],
   "source": [
    "# Import code (contained in a single Python file)\n",
    "from ConsistentLocalRules import *"
   ]
  },
  {
   "cell_type": "code",
   "execution_count": 22,
   "metadata": {},
   "outputs": [
    {
     "name": "stdout",
     "output_type": "stream",
     "text": [
      "Observation 0 features: [[ 55 144   4  84  20   3   0  83   2   3   5  23   1  43   0   0   0  33\n",
      "   -8   8   1   1  69]]\n",
      "Model prediction for observation 0: [1]\n"
     ]
    }
   ],
   "source": [
    "# Print observation i\n",
    "i = 0\n",
    "X_i, Y_global_i = X.iloc[[i],:], Y_global.iloc[[i]]\n",
    "print('Observation %d features: %s'%(i,str(X_i.values)))\n",
    "print('Model prediction for observation %d: %s'%(i,str(Y_global_i.values)))"
   ]
  },
  {
   "cell_type": "code",
   "execution_count": 23,
   "metadata": {},
   "outputs": [],
   "source": [
    "# Create an explainer (a globally-consistent summary-explanation generator) based on the dataset X and the model whose predictions for X are Y_global\n",
    "explainer = ConsistentRulesExplainer(X, Y_global)        "
   ]
  },
  {
   "cell_type": "code",
   "execution_count": 24,
   "metadata": {},
   "outputs": [],
   "source": [
    "# Generate summary explanations for observation i (here we optimize sparsity; X_i is a dataframe formatted similarly to X)\n",
    "df_explanations = explainer.explain(X_i, Y_global_i, objective='SPARSITY', n_explanations=3, max_features=9999, max_runtime=60)"
   ]
  },
  {
   "cell_type": "code",
   "execution_count": 25,
   "metadata": {},
   "outputs": [
    {
     "data": {
      "text/html": [
       "<div>\n",
       "<style scoped>\n",
       "    .dataframe tbody tr th:only-of-type {\n",
       "        vertical-align: middle;\n",
       "    }\n",
       "\n",
       "    .dataframe tbody tr th {\n",
       "        vertical-align: top;\n",
       "    }\n",
       "\n",
       "    .dataframe thead th {\n",
       "        text-align: right;\n",
       "    }\n",
       "</style>\n",
       "<table border=\"1\" class=\"dataframe\">\n",
       "  <thead>\n",
       "    <tr style=\"text-align: right;\">\n",
       "      <th></th>\n",
       "      <th>#Observation</th>\n",
       "      <th>#Explanation</th>\n",
       "      <th>Rule</th>\n",
       "      <th>Prediction</th>\n",
       "      <th>Support</th>\n",
       "      <th>#Features</th>\n",
       "      <th>Runtime</th>\n",
       "      <th>Algorithm</th>\n",
       "    </tr>\n",
       "  </thead>\n",
       "  <tbody>\n",
       "    <tr>\n",
       "      <th>0</th>\n",
       "      <td>0</td>\n",
       "      <td>0</td>\n",
       "      <td>MSinceMostRecentDelq&gt;=2.00, ExternalRiskEstima...</td>\n",
       "      <td>1</td>\n",
       "      <td>204</td>\n",
       "      <td>2</td>\n",
       "      <td>5.3</td>\n",
       "      <td>ContMinSetCover</td>\n",
       "    </tr>\n",
       "    <tr>\n",
       "      <th>1</th>\n",
       "      <td>0</td>\n",
       "      <td>1</td>\n",
       "      <td>NumTrades60Ever2DerogPubRec&gt;=3.00, ExternalRis...</td>\n",
       "      <td>1</td>\n",
       "      <td>85</td>\n",
       "      <td>2</td>\n",
       "      <td>5.3</td>\n",
       "      <td>ContMinSetCover</td>\n",
       "    </tr>\n",
       "    <tr>\n",
       "      <th>2</th>\n",
       "      <td>0</td>\n",
       "      <td>2</td>\n",
       "      <td>ExternalRiskEstimate&lt;=55.00, NumTrades90Ever2D...</td>\n",
       "      <td>1</td>\n",
       "      <td>730</td>\n",
       "      <td>2</td>\n",
       "      <td>5.3</td>\n",
       "      <td>ContMinSetCover</td>\n",
       "    </tr>\n",
       "  </tbody>\n",
       "</table>\n",
       "</div>"
      ],
      "text/plain": [
       "   #Observation  #Explanation  \\\n",
       "0             0             0   \n",
       "1             0             1   \n",
       "2             0             2   \n",
       "\n",
       "                                                Rule  Prediction  Support  \\\n",
       "0  MSinceMostRecentDelq>=2.00, ExternalRiskEstima...           1      204   \n",
       "1  NumTrades60Ever2DerogPubRec>=3.00, ExternalRis...           1       85   \n",
       "2  ExternalRiskEstimate<=55.00, NumTrades90Ever2D...           1      730   \n",
       "\n",
       "   #Features Runtime        Algorithm  \n",
       "0          2     5.3  ContMinSetCover  \n",
       "1          2     5.3  ContMinSetCover  \n",
       "2          2     5.3  ContMinSetCover  "
      ]
     },
     "execution_count": 25,
     "metadata": {},
     "output_type": "execute_result"
    }
   ],
   "source": [
    "df_explanations"
   ]
  },
  {
   "cell_type": "code",
   "execution_count": 26,
   "metadata": {},
   "outputs": [
    {
     "name": "stdout",
     "output_type": "stream",
     "text": [
      "['MSinceMostRecentDelq>=2.00, ExternalRiskEstimate<=55.00'\n",
      " 'NumTrades60Ever2DerogPubRec>=3.00, ExternalRiskEstimate<=55.00'\n",
      " 'ExternalRiskEstimate<=55.00, NumTrades90Ever2DerogPubRec<=-0.00']\n"
     ]
    }
   ],
   "source": [
    "# Print summary explanations\n",
    "print(df_explanations.loc[:,\"Rule\"].values)"
   ]
  },
  {
   "cell_type": "markdown",
   "metadata": {},
   "source": [
    "We created 3 sparse summary-explanations for observation i=0. The first rule states that: For all 204 observations in the data  where `MSinceMostRecentDelq>=2.00` and `ExternalRiskEstimate<=55.00` the global model predicts high-risk of defaulting (\"Bad\" or 1)."
   ]
  },
  {
   "cell_type": "code",
   "execution_count": 27,
   "metadata": {},
   "outputs": [],
   "source": [
    "# Generate summary explanations for observation i (this time optimize support)\n",
    "df_explanations = explainer.explain(X_i, Y_global_i, objective='SUPPORT', n_explanations=3, max_features=9999, max_runtime=60)"
   ]
  },
  {
   "cell_type": "code",
   "execution_count": 28,
   "metadata": {},
   "outputs": [
    {
     "data": {
      "text/html": [
       "<div>\n",
       "<style scoped>\n",
       "    .dataframe tbody tr th:only-of-type {\n",
       "        vertical-align: middle;\n",
       "    }\n",
       "\n",
       "    .dataframe tbody tr th {\n",
       "        vertical-align: top;\n",
       "    }\n",
       "\n",
       "    .dataframe thead th {\n",
       "        text-align: right;\n",
       "    }\n",
       "</style>\n",
       "<table border=\"1\" class=\"dataframe\">\n",
       "  <thead>\n",
       "    <tr style=\"text-align: right;\">\n",
       "      <th></th>\n",
       "      <th>#Observation</th>\n",
       "      <th>#Explanation</th>\n",
       "      <th>Rule</th>\n",
       "      <th>Prediction</th>\n",
       "      <th>Support</th>\n",
       "      <th>#Features</th>\n",
       "      <th>Runtime</th>\n",
       "      <th>Algorithm</th>\n",
       "    </tr>\n",
       "  </thead>\n",
       "  <tbody>\n",
       "    <tr>\n",
       "      <th>0</th>\n",
       "      <td>0</td>\n",
       "      <td>0</td>\n",
       "      <td>ExternalRiskEstimate&lt;=57.00, NumTrades90Ever2D...</td>\n",
       "      <td>1</td>\n",
       "      <td>942</td>\n",
       "      <td>2</td>\n",
       "      <td>0.3</td>\n",
       "      <td>ContMaxSupport</td>\n",
       "    </tr>\n",
       "    <tr>\n",
       "      <th>1</th>\n",
       "      <td>0</td>\n",
       "      <td>1</td>\n",
       "      <td>MSinceMostRecentDelq&gt;=2.00, ExternalRiskEstima...</td>\n",
       "      <td>1</td>\n",
       "      <td>326</td>\n",
       "      <td>2</td>\n",
       "      <td>0.1</td>\n",
       "      <td>ContMaxSupport</td>\n",
       "    </tr>\n",
       "    <tr>\n",
       "      <th>2</th>\n",
       "      <td>0</td>\n",
       "      <td>2</td>\n",
       "      <td>NumTrades60Ever2DerogPubRec&gt;=3.00, ExternalRis...</td>\n",
       "      <td>1</td>\n",
       "      <td>287</td>\n",
       "      <td>2</td>\n",
       "      <td>0.3</td>\n",
       "      <td>ContMaxSupport</td>\n",
       "    </tr>\n",
       "  </tbody>\n",
       "</table>\n",
       "</div>"
      ],
      "text/plain": [
       "   #Observation  #Explanation  \\\n",
       "0             0             0   \n",
       "1             0             1   \n",
       "2             0             2   \n",
       "\n",
       "                                                Rule  Prediction  Support  \\\n",
       "0  ExternalRiskEstimate<=57.00, NumTrades90Ever2D...           1      942   \n",
       "1  MSinceMostRecentDelq>=2.00, ExternalRiskEstima...           1      326   \n",
       "2  NumTrades60Ever2DerogPubRec>=3.00, ExternalRis...           1      287   \n",
       "\n",
       "   #Features Runtime       Algorithm  \n",
       "0          2     0.3  ContMaxSupport  \n",
       "1          2     0.1  ContMaxSupport  \n",
       "2          2     0.3  ContMaxSupport  "
      ]
     },
     "execution_count": 28,
     "metadata": {},
     "output_type": "execute_result"
    }
   ],
   "source": [
    "# Display summary-explanations\n",
    "df_explanations"
   ]
  },
  {
   "cell_type": "code",
   "execution_count": 29,
   "metadata": {},
   "outputs": [
    {
     "name": "stdout",
     "output_type": "stream",
     "text": [
      "['ExternalRiskEstimate<=57.00, NumTrades90Ever2DerogPubRec<=-0.00'\n",
      " 'MSinceMostRecentDelq>=2.00, ExternalRiskEstimate<=56.00'\n",
      " 'NumTrades60Ever2DerogPubRec>=3.00, ExternalRiskEstimate<=61.00']\n"
     ]
    }
   ],
   "source": [
    "print(df_explanations.loc[:,\"Rule\"].values)"
   ]
  },
  {
   "cell_type": "markdown",
   "metadata": {},
   "source": [
    "Here we see the explanations for observation i=0 when maximizing support. While the features constituting the summary-explanations are similar, the threshold values in the rules are different (e.g., ExternalRiskEstimate<=55.00 vs. ExternalRiskEstimate<=57.00), resulting in a higher support values without harming sparsity. "
   ]
  },
  {
   "cell_type": "code",
   "execution_count": null,
   "metadata": {},
   "outputs": [],
   "source": []
  }
 ],
 "metadata": {
  "kernelspec": {
   "display_name": "Python 3 (ipykernel)",
   "language": "python",
   "name": "python3"
  },
  "language_info": {
   "codemirror_mode": {
    "name": "ipython",
    "version": 3
   },
   "file_extension": ".py",
   "mimetype": "text/x-python",
   "name": "python",
   "nbconvert_exporter": "python",
   "pygments_lexer": "ipython3",
   "version": "3.10.4"
  },
  "latex_envs": {
   "LaTeX_envs_menu_present": true,
   "autoclose": false,
   "autocomplete": true,
   "bibliofile": "biblio.bib",
   "cite_by": "apalike",
   "current_citInitial": 1,
   "eqLabelWithNumbers": true,
   "eqNumInitial": 1,
   "hotkeys": {
    "equation": "Ctrl-E",
    "itemize": "Ctrl-I"
   },
   "labels_anchors": false,
   "latex_user_defs": false,
   "report_style_numbering": false,
   "user_envs_cfg": false
  },
  "toc": {
   "base_numbering": 1,
   "nav_menu": {},
   "number_sections": false,
   "sideBar": true,
   "skip_h1_title": false,
   "title_cell": "Table of Contents",
   "title_sidebar": "Contents",
   "toc_cell": false,
   "toc_position": {},
   "toc_section_display": true,
   "toc_window_display": true
  }
 },
 "nbformat": 4,
 "nbformat_minor": 4
}
